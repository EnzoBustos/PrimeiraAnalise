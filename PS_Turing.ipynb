{
  "nbformat": 4,
  "nbformat_minor": 0,
  "metadata": {
    "colab": {
      "name": "PS _Turing.ipynb",
      "provenance": [],
      "collapsed_sections": [],
      "toc_visible": true
    },
    "kernelspec": {
      "name": "python3",
      "display_name": "Python 3"
    }
  },
  "cells": [
    {
      "cell_type": "markdown",
      "metadata": {
        "id": "C85KRjOtV2Z5",
        "colab_type": "text"
      },
      "source": [
        "**Parte 1) Análise de Dados Numéricos - Adult income dataset**"
      ]
    },
    {
      "cell_type": "code",
      "metadata": {
        "id": "2xMslihyQ4X0",
        "colab_type": "code",
        "colab": {}
      },
      "source": [
        "import numpy as np\n",
        "import pandas as pd\n",
        "import matplotlib.pyplot as plt\n",
        "import seaborn as sns\n",
        "from sklearn.preprocessing import LabelEncoder\n",
        "from sklearn.preprocessing import OneHotEncoder"
      ],
      "execution_count": 0,
      "outputs": []
    },
    {
      "cell_type": "code",
      "metadata": {
        "id": "KzGNU1pTRFEl",
        "colab_type": "code",
        "colab": {}
      },
      "source": [
        "adult = pd.read_csv('adult.csv')\n",
        "var = pd.read_csv(\"std(div)mean.csv\")"
      ],
      "execution_count": 0,
      "outputs": []
    },
    {
      "cell_type": "code",
      "metadata": {
        "id": "PwPFGSZiDXs-",
        "colab_type": "code",
        "outputId": "ee7de3f4-69db-41b1-e719-ea551a68b379",
        "colab": {
          "base_uri": "https://localhost:8080/",
          "height": 394
        }
      },
      "source": [
        "adult.head(5)"
      ],
      "execution_count": 0,
      "outputs": [
        {
          "output_type": "execute_result",
          "data": {
            "text/html": [
              "<div>\n",
              "<style scoped>\n",
              "    .dataframe tbody tr th:only-of-type {\n",
              "        vertical-align: middle;\n",
              "    }\n",
              "\n",
              "    .dataframe tbody tr th {\n",
              "        vertical-align: top;\n",
              "    }\n",
              "\n",
              "    .dataframe thead th {\n",
              "        text-align: right;\n",
              "    }\n",
              "</style>\n",
              "<table border=\"1\" class=\"dataframe\">\n",
              "  <thead>\n",
              "    <tr style=\"text-align: right;\">\n",
              "      <th></th>\n",
              "      <th>age</th>\n",
              "      <th>workclass</th>\n",
              "      <th>fnlwgt</th>\n",
              "      <th>education</th>\n",
              "      <th>educational-num</th>\n",
              "      <th>marital-status</th>\n",
              "      <th>occupation</th>\n",
              "      <th>relationship</th>\n",
              "      <th>race</th>\n",
              "      <th>gender</th>\n",
              "      <th>capital-gain</th>\n",
              "      <th>capital-loss</th>\n",
              "      <th>hours-per-week</th>\n",
              "      <th>native-country</th>\n",
              "      <th>income</th>\n",
              "    </tr>\n",
              "  </thead>\n",
              "  <tbody>\n",
              "    <tr>\n",
              "      <th>0</th>\n",
              "      <td>25</td>\n",
              "      <td>Private</td>\n",
              "      <td>226802</td>\n",
              "      <td>11th</td>\n",
              "      <td>7</td>\n",
              "      <td>Never-married</td>\n",
              "      <td>Machine-op-inspct</td>\n",
              "      <td>Own-child</td>\n",
              "      <td>Black</td>\n",
              "      <td>Male</td>\n",
              "      <td>0</td>\n",
              "      <td>0</td>\n",
              "      <td>40</td>\n",
              "      <td>United-States</td>\n",
              "      <td>&lt;=50K</td>\n",
              "    </tr>\n",
              "    <tr>\n",
              "      <th>1</th>\n",
              "      <td>38</td>\n",
              "      <td>Private</td>\n",
              "      <td>89814</td>\n",
              "      <td>HS-grad</td>\n",
              "      <td>9</td>\n",
              "      <td>Married-civ-spouse</td>\n",
              "      <td>Farming-fishing</td>\n",
              "      <td>Husband</td>\n",
              "      <td>White</td>\n",
              "      <td>Male</td>\n",
              "      <td>0</td>\n",
              "      <td>0</td>\n",
              "      <td>50</td>\n",
              "      <td>United-States</td>\n",
              "      <td>&lt;=50K</td>\n",
              "    </tr>\n",
              "    <tr>\n",
              "      <th>2</th>\n",
              "      <td>28</td>\n",
              "      <td>Local-gov</td>\n",
              "      <td>336951</td>\n",
              "      <td>Assoc-acdm</td>\n",
              "      <td>12</td>\n",
              "      <td>Married-civ-spouse</td>\n",
              "      <td>Protective-serv</td>\n",
              "      <td>Husband</td>\n",
              "      <td>White</td>\n",
              "      <td>Male</td>\n",
              "      <td>0</td>\n",
              "      <td>0</td>\n",
              "      <td>40</td>\n",
              "      <td>United-States</td>\n",
              "      <td>&gt;50K</td>\n",
              "    </tr>\n",
              "    <tr>\n",
              "      <th>3</th>\n",
              "      <td>44</td>\n",
              "      <td>Private</td>\n",
              "      <td>160323</td>\n",
              "      <td>Some-college</td>\n",
              "      <td>10</td>\n",
              "      <td>Married-civ-spouse</td>\n",
              "      <td>Machine-op-inspct</td>\n",
              "      <td>Husband</td>\n",
              "      <td>Black</td>\n",
              "      <td>Male</td>\n",
              "      <td>7688</td>\n",
              "      <td>0</td>\n",
              "      <td>40</td>\n",
              "      <td>United-States</td>\n",
              "      <td>&gt;50K</td>\n",
              "    </tr>\n",
              "    <tr>\n",
              "      <th>4</th>\n",
              "      <td>18</td>\n",
              "      <td>?</td>\n",
              "      <td>103497</td>\n",
              "      <td>Some-college</td>\n",
              "      <td>10</td>\n",
              "      <td>Never-married</td>\n",
              "      <td>?</td>\n",
              "      <td>Own-child</td>\n",
              "      <td>White</td>\n",
              "      <td>Female</td>\n",
              "      <td>0</td>\n",
              "      <td>0</td>\n",
              "      <td>30</td>\n",
              "      <td>United-States</td>\n",
              "      <td>&lt;=50K</td>\n",
              "    </tr>\n",
              "  </tbody>\n",
              "</table>\n",
              "</div>"
            ],
            "text/plain": [
              "   age  workclass  fnlwgt  ... hours-per-week  native-country income\n",
              "0   25    Private  226802  ...             40   United-States  <=50K\n",
              "1   38    Private   89814  ...             50   United-States  <=50K\n",
              "2   28  Local-gov  336951  ...             40   United-States   >50K\n",
              "3   44    Private  160323  ...             40   United-States   >50K\n",
              "4   18          ?  103497  ...             30   United-States  <=50K\n",
              "\n",
              "[5 rows x 15 columns]"
            ]
          },
          "metadata": {
            "tags": []
          },
          "execution_count": 72
        }
      ]
    },
    {
      "cell_type": "code",
      "metadata": {
        "id": "_bVR1Z_0Xun0",
        "colab_type": "code",
        "outputId": "83d44f5d-3f46-46f9-8aac-f2fecf15c11a",
        "colab": {
          "base_uri": "https://localhost:8080/",
          "height": 297
        }
      },
      "source": [
        "adult.describe()"
      ],
      "execution_count": 0,
      "outputs": [
        {
          "output_type": "execute_result",
          "data": {
            "text/html": [
              "<div>\n",
              "<style scoped>\n",
              "    .dataframe tbody tr th:only-of-type {\n",
              "        vertical-align: middle;\n",
              "    }\n",
              "\n",
              "    .dataframe tbody tr th {\n",
              "        vertical-align: top;\n",
              "    }\n",
              "\n",
              "    .dataframe thead th {\n",
              "        text-align: right;\n",
              "    }\n",
              "</style>\n",
              "<table border=\"1\" class=\"dataframe\">\n",
              "  <thead>\n",
              "    <tr style=\"text-align: right;\">\n",
              "      <th></th>\n",
              "      <th>age</th>\n",
              "      <th>fnlwgt</th>\n",
              "      <th>educational-num</th>\n",
              "      <th>capital-gain</th>\n",
              "      <th>capital-loss</th>\n",
              "      <th>hours-per-week</th>\n",
              "    </tr>\n",
              "  </thead>\n",
              "  <tbody>\n",
              "    <tr>\n",
              "      <th>count</th>\n",
              "      <td>48842.000000</td>\n",
              "      <td>4.884200e+04</td>\n",
              "      <td>48842.000000</td>\n",
              "      <td>48842.000000</td>\n",
              "      <td>48842.000000</td>\n",
              "      <td>48842.000000</td>\n",
              "    </tr>\n",
              "    <tr>\n",
              "      <th>mean</th>\n",
              "      <td>38.643585</td>\n",
              "      <td>1.896641e+05</td>\n",
              "      <td>10.078089</td>\n",
              "      <td>1079.067626</td>\n",
              "      <td>87.502314</td>\n",
              "      <td>40.422382</td>\n",
              "    </tr>\n",
              "    <tr>\n",
              "      <th>std</th>\n",
              "      <td>13.710510</td>\n",
              "      <td>1.056040e+05</td>\n",
              "      <td>2.570973</td>\n",
              "      <td>7452.019058</td>\n",
              "      <td>403.004552</td>\n",
              "      <td>12.391444</td>\n",
              "    </tr>\n",
              "    <tr>\n",
              "      <th>min</th>\n",
              "      <td>17.000000</td>\n",
              "      <td>1.228500e+04</td>\n",
              "      <td>1.000000</td>\n",
              "      <td>0.000000</td>\n",
              "      <td>0.000000</td>\n",
              "      <td>1.000000</td>\n",
              "    </tr>\n",
              "    <tr>\n",
              "      <th>25%</th>\n",
              "      <td>28.000000</td>\n",
              "      <td>1.175505e+05</td>\n",
              "      <td>9.000000</td>\n",
              "      <td>0.000000</td>\n",
              "      <td>0.000000</td>\n",
              "      <td>40.000000</td>\n",
              "    </tr>\n",
              "    <tr>\n",
              "      <th>50%</th>\n",
              "      <td>37.000000</td>\n",
              "      <td>1.781445e+05</td>\n",
              "      <td>10.000000</td>\n",
              "      <td>0.000000</td>\n",
              "      <td>0.000000</td>\n",
              "      <td>40.000000</td>\n",
              "    </tr>\n",
              "    <tr>\n",
              "      <th>75%</th>\n",
              "      <td>48.000000</td>\n",
              "      <td>2.376420e+05</td>\n",
              "      <td>12.000000</td>\n",
              "      <td>0.000000</td>\n",
              "      <td>0.000000</td>\n",
              "      <td>45.000000</td>\n",
              "    </tr>\n",
              "    <tr>\n",
              "      <th>max</th>\n",
              "      <td>90.000000</td>\n",
              "      <td>1.490400e+06</td>\n",
              "      <td>16.000000</td>\n",
              "      <td>99999.000000</td>\n",
              "      <td>4356.000000</td>\n",
              "      <td>99.000000</td>\n",
              "    </tr>\n",
              "  </tbody>\n",
              "</table>\n",
              "</div>"
            ],
            "text/plain": [
              "                age        fnlwgt  ...  capital-loss  hours-per-week\n",
              "count  48842.000000  4.884200e+04  ...  48842.000000    48842.000000\n",
              "mean      38.643585  1.896641e+05  ...     87.502314       40.422382\n",
              "std       13.710510  1.056040e+05  ...    403.004552       12.391444\n",
              "min       17.000000  1.228500e+04  ...      0.000000        1.000000\n",
              "25%       28.000000  1.175505e+05  ...      0.000000       40.000000\n",
              "50%       37.000000  1.781445e+05  ...      0.000000       40.000000\n",
              "75%       48.000000  2.376420e+05  ...      0.000000       45.000000\n",
              "max       90.000000  1.490400e+06  ...   4356.000000       99.000000\n",
              "\n",
              "[8 rows x 6 columns]"
            ]
          },
          "metadata": {
            "tags": []
          },
          "execution_count": 73
        }
      ]
    },
    {
      "cell_type": "markdown",
      "metadata": {
        "id": "kNGzDNiq8WQD",
        "colab_type": "text"
      },
      "source": [
        "Uma mostra dos dados numéricos que estamos trabalhando"
      ]
    },
    {
      "cell_type": "code",
      "metadata": {
        "id": "JsrNUN2n4Jap",
        "colab_type": "code",
        "outputId": "a8179691-fe19-43f3-89f8-8179075954b6",
        "colab": {
          "base_uri": "https://localhost:8080/",
          "height": 142
        }
      },
      "source": [
        "var.head()"
      ],
      "execution_count": 0,
      "outputs": [
        {
          "output_type": "execute_result",
          "data": {
            "text/html": [
              "<div>\n",
              "<style scoped>\n",
              "    .dataframe tbody tr th:only-of-type {\n",
              "        vertical-align: middle;\n",
              "    }\n",
              "\n",
              "    .dataframe tbody tr th {\n",
              "        vertical-align: top;\n",
              "    }\n",
              "\n",
              "    .dataframe thead th {\n",
              "        text-align: right;\n",
              "    }\n",
              "</style>\n",
              "<table border=\"1\" class=\"dataframe\">\n",
              "  <thead>\n",
              "    <tr style=\"text-align: right;\">\n",
              "      <th></th>\n",
              "      <th>Unnamed: 0</th>\n",
              "      <th>age</th>\n",
              "      <th>fnlwgt</th>\n",
              "      <th>educational-num</th>\n",
              "      <th>capital-gain</th>\n",
              "      <th>capital-loss</th>\n",
              "      <th>hours-per-week</th>\n",
              "    </tr>\n",
              "  </thead>\n",
              "  <tbody>\n",
              "    <tr>\n",
              "      <th>0</th>\n",
              "      <td>mean</td>\n",
              "      <td>38.643.585</td>\n",
              "      <td>1,90E+11</td>\n",
              "      <td>10.078.089</td>\n",
              "      <td>1.079.067.626</td>\n",
              "      <td>87.502.314</td>\n",
              "      <td>40.422.382</td>\n",
              "    </tr>\n",
              "    <tr>\n",
              "      <th>1</th>\n",
              "      <td>std</td>\n",
              "      <td>13.710.510</td>\n",
              "      <td>1,06E+11</td>\n",
              "      <td>2.570.973</td>\n",
              "      <td>7.452.019.058</td>\n",
              "      <td>403.004.552</td>\n",
              "      <td>12.391.444</td>\n",
              "    </tr>\n",
              "    <tr>\n",
              "      <th>2</th>\n",
              "      <td>std/mean</td>\n",
              "      <td>3,55E-01</td>\n",
              "      <td>5,57E-01</td>\n",
              "      <td>0,2551052089</td>\n",
              "      <td>6,905979642</td>\n",
              "      <td>4,605644509</td>\n",
              "      <td>0,3065490797</td>\n",
              "    </tr>\n",
              "  </tbody>\n",
              "</table>\n",
              "</div>"
            ],
            "text/plain": [
              "  Unnamed: 0         age    fnlwgt  ...   capital-gain capital-loss hours-per-week\n",
              "0       mean  38.643.585  1,90E+11  ...  1.079.067.626   87.502.314     40.422.382\n",
              "1        std  13.710.510  1,06E+11  ...  7.452.019.058  403.004.552     12.391.444\n",
              "2   std/mean    3,55E-01  5,57E-01  ...    6,905979642  4,605644509   0,3065490797\n",
              "\n",
              "[3 rows x 7 columns]"
            ]
          },
          "metadata": {
            "tags": []
          },
          "execution_count": 74
        }
      ]
    },
    {
      "cell_type": "markdown",
      "metadata": {
        "id": "5Uo1ERge8PJj",
        "colab_type": "text"
      },
      "source": [
        "Essa tabela será útil para a análise de algumas das features numéricas desse dataset."
      ]
    },
    {
      "cell_type": "markdown",
      "metadata": {
        "id": "seZyKyuVXOp9",
        "colab_type": "text"
      },
      "source": [
        "**Age**"
      ]
    },
    {
      "cell_type": "code",
      "metadata": {
        "id": "HcJ_cTpYXN7n",
        "colab_type": "code",
        "outputId": "de4eaa66-1e6f-4da9-d671-891ec3515c1e",
        "colab": {
          "base_uri": "https://localhost:8080/",
          "height": 265
        }
      },
      "source": [
        "adult[\"age\"].hist(bins = 4)\n",
        "plt.show()"
      ],
      "execution_count": 0,
      "outputs": [
        {
          "output_type": "display_data",
          "data": {
            "image/png": "[encoded data removed]",
            "text/plain": [
              "<Figure size 432x288 with 1 Axes>"
            ]
          },
          "metadata": {
            "tags": []
          }
        }
      ]
    },
    {
      "cell_type": "markdown",
      "metadata": {
        "id": "0QmAcVKLXiL1",
        "colab_type": "text"
      },
      "source": [
        "Podemos notar a partir desse gráfico que a maior parte das idades giram em torno dos 17 aos 53 anos.\n",
        "\n",
        "Fato este que era esperado tendo que a PEA (**P**opulação **E**conomicamente **A**tiva) de um país geralmente gira em torno desses valores.\n",
        "\n",
        "Sendo que mais de 25000 resultados são entre as idades de aproximadamente 17 a 35 anos (a mais comum).\n",
        "\n",
        "Dados fora divididos em 4 bins:\n",
        "\n",
        "\n",
        "1. *Jovem*: 17 aos 35 anos (categoria com maior número)\n",
        "2. *Meia-idade*: 36 aos 53 anos\n",
        "3. *Senhor*: 54 aos 71 anos\n",
        "4. *Velho*: 71 aos 90 anos"
      ]
    },
    {
      "cell_type": "code",
      "metadata": {
        "id": "GdCcawkF4YGU",
        "colab_type": "code",
        "outputId": "ba9cd4dd-3ebf-4649-9d0a-0f5ba11dfd06",
        "colab": {
          "base_uri": "https://localhost:8080/",
          "height": 296
        }
      },
      "source": [
        "sns.boxplot(x = 'age', data=adult)"
      ],
      "execution_count": 0,
      "outputs": [
        {
          "output_type": "execute_result",
          "data": {
            "text/plain": [
              "<matplotlib.axes._subplots.AxesSubplot at 0x7f7e29846080>"
            ]
          },
          "metadata": {
            "tags": []
          },
          "execution_count": 76
        },
        {
          "output_type": "display_data",
          "data": {
            "image/png": "[encoded data removed]",
            "text/plain": [
              "<Figure size 432x288 with 1 Axes>"
            ]
          },
          "metadata": {
            "tags": []
          }
        }
      ]
    },
    {
      "cell_type": "markdown",
      "metadata": {
        "id": "EfbQ3kyg5H58",
        "colab_type": "text"
      },
      "source": [
        "Podemos reparar que nossos outliers nesse caso se referem aos casos excepcionais de pessoas que tem mais de 77 anos e ainda trabalham (que como podemos ver no primeiro caso é apenas uma pequena parcela do gráfico)."
      ]
    },
    {
      "cell_type": "markdown",
      "metadata": {
        "id": "uAMHIyF1XkF9",
        "colab_type": "text"
      },
      "source": [
        "**Educational-num**"
      ]
    },
    {
      "cell_type": "code",
      "metadata": {
        "id": "l-d3FXSAXqos",
        "colab_type": "code",
        "outputId": "1e15edcb-a194-41d0-f4c3-a27407e1c721",
        "colab": {
          "base_uri": "https://localhost:8080/",
          "height": 265
        }
      },
      "source": [
        "adult[\"educational-num\"].hist(bins=6)\n",
        "plt.show()"
      ],
      "execution_count": 0,
      "outputs": [
        {
          "output_type": "display_data",
          "data": {
            "image/png": "[encoded data removed]",
            "text/plain": [
              "<Figure size 432x288 with 1 Axes>"
            ]
          },
          "metadata": {
            "tags": []
          }
        }
      ]
    },
    {
      "cell_type": "markdown",
      "metadata": {
        "id": "Xq-3jovHyd8x",
        "colab_type": "text"
      },
      "source": [
        "Educational-num é um fator numérico para representar o atributo educação de cada um dos analisados.\n",
        "\n",
        "Podemos perceber que a maioria gira em torno dos valores 9 e 10, pouco acima da média (8) nesse padrão de divisão.\n",
        "\n",
        "Outro fato importante é que dar features numéricas esta é a que os valores menos variam (**std/mean = *0,2551052089***)\n",
        "\n",
        "Dividi os dados em 6 colunas e tentei uma analogia com os níveis de ensino no Brasil:\n",
        "\n",
        "1.   Educação infantil (1 - 3,5)\n",
        "2.   Ensino fundamental (3,6 - 6,0)\n",
        "3.   Ensino médio (6,1 - 8,5)\n",
        "4.   Ensino superior (8,6 - 11,0)  -> Maior quantidade de dados\n",
        "5.   Mestrado (11,1 - 13,5)\n",
        "6.   Doutorado (13,6 - 16,0)\n",
        "\n",
        "\n"
      ]
    },
    {
      "cell_type": "code",
      "metadata": {
        "id": "yPg74ZfH5noY",
        "colab_type": "code",
        "outputId": "630f5955-6167-43fe-cd2b-2aaca3419846",
        "colab": {
          "base_uri": "https://localhost:8080/",
          "height": 296
        }
      },
      "source": [
        "sns.boxplot(x = 'educational-num', data=adult)"
      ],
      "execution_count": 0,
      "outputs": [
        {
          "output_type": "execute_result",
          "data": {
            "text/plain": [
              "<matplotlib.axes._subplots.AxesSubplot at 0x7f7e297517f0>"
            ]
          },
          "metadata": {
            "tags": []
          },
          "execution_count": 78
        },
        {
          "output_type": "display_data",
          "data": {
            "image/png": "[encoded data removed]",
            "text/plain": [
              "<Figure size 432x288 with 1 Axes>"
            ]
          },
          "metadata": {
            "tags": []
          }
        }
      ]
    },
    {
      "cell_type": "markdown",
      "metadata": {
        "id": "08Fo6fwB6BYX",
        "colab_type": "text"
      },
      "source": [
        "Por este último gráfico podemos reparar que nossos outliers são pessoas apenas com educação infantil (<3,6 no educational-num), o que novamente era esperado pela análise anterior que a maioria dos dados se encontravam ao longo da faixa 10 (com ensino superior)"
      ]
    },
    {
      "cell_type": "markdown",
      "metadata": {
        "id": "GTpEpPVwYAPt",
        "colab_type": "text"
      },
      "source": [
        "**Hours-per-week**"
      ]
    },
    {
      "cell_type": "code",
      "metadata": {
        "id": "V-WUrTHQYE88",
        "colab_type": "code",
        "outputId": "aef8e4b6-a522-4086-b9c3-2a745363c7d0",
        "colab": {
          "base_uri": "https://localhost:8080/",
          "height": 282
        }
      },
      "source": [
        "adult[\"hours-per-week\"].hist(bins=4)\n",
        "plt.plot()"
      ],
      "execution_count": 0,
      "outputs": [
        {
          "output_type": "execute_result",
          "data": {
            "text/plain": [
              "[]"
            ]
          },
          "metadata": {
            "tags": []
          },
          "execution_count": 79
        },
        {
          "output_type": "display_data",
          "data": {
            "image/png": "[encoded data removed]",
            "text/plain": [
              "<Figure size 432x288 with 1 Axes>"
            ]
          },
          "metadata": {
            "tags": []
          }
        }
      ]
    },
    {
      "cell_type": "markdown",
      "metadata": {
        "id": "yu7SWAIF8IcB",
        "colab_type": "text"
      },
      "source": [
        "Nessa parte eu busquei uma visualização que mostrasse:\n",
        "\n",
        "\n",
        "1.   Meio-período: 1 - 25,5 horas\n",
        "2.   Período integral: 26,6 - 50 horas\n",
        "3.   Horas Extras: 50,1 - 74,5 horas\n",
        "4.   Muito além: 74,6 - 99 horas\n",
        "\n",
        "Temos que a maioria dos dados está concentrado no período integral, o que era esperado.\n",
        "\n",
        "Novamente, usando o argumento da PEA, que se concentra nessa faixa de idade.\n",
        "\n"
      ]
    },
    {
      "cell_type": "code",
      "metadata": {
        "id": "7cHmpG-C6bD5",
        "colab_type": "code",
        "outputId": "22d8e6c3-d914-4d98-cb02-41d800500d88",
        "colab": {
          "base_uri": "https://localhost:8080/",
          "height": 296
        }
      },
      "source": [
        "sns.boxplot(x = 'hours-per-week', data=adult)"
      ],
      "execution_count": 0,
      "outputs": [
        {
          "output_type": "execute_result",
          "data": {
            "text/plain": [
              "<matplotlib.axes._subplots.AxesSubplot at 0x7f7e2969b080>"
            ]
          },
          "metadata": {
            "tags": []
          },
          "execution_count": 80
        },
        {
          "output_type": "display_data",
          "data": {
            "image/png": "[encoded data removed]",
            "text/plain": [
              "<Figure size 432x288 with 1 Axes>"
            ]
          },
          "metadata": {
            "tags": []
          }
        }
      ]
    },
    {
      "cell_type": "markdown",
      "metadata": {
        "id": "h9MYW9Pp9XLb",
        "colab_type": "text"
      },
      "source": [
        "Novamente, como o esperado, a maioria dos dados se encontra no período de trabalho integral (26,6 até 50 horas por semana) e todos os outros foram considerados outliers por terem muito menos dados quando comparados com o integral."
      ]
    },
    {
      "cell_type": "code",
      "metadata": {
        "id": "Vyu3G9UUDfYQ",
        "colab_type": "code",
        "outputId": "e2cf3296-9a09-4986-cafc-c170bd63e487",
        "colab": {
          "base_uri": "https://localhost:8080/",
          "height": 487
        }
      },
      "source": [
        "plt.figure(figsize=(10, 8))  # Aumenta o tamanho da figura\n",
        "sns.heatmap(adult.corr(), vmin=-1, vmax=1, annot=True, fmt='.2f')\n",
        "plt.show()"
      ],
      "execution_count": 0,
      "outputs": [
        {
          "output_type": "display_data",
          "data": {
            "image/png": "[encoded data removed]",
            "text/plain": [
              "<Figure size 720x576 with 2 Axes>"
            ]
          },
          "metadata": {
            "tags": []
          }
        }
      ]
    },
    {
      "cell_type": "markdown",
      "metadata": {
        "id": "0QTBfC2D7UMk",
        "colab_type": "text"
      },
      "source": [
        "Pela análise do heatmap das correlações do nosso dataset podemos inferir que não há uma relação muito expressiva entre os dados de forma geral.\n",
        "\n",
        "Porém destaque para o fator 'educational-num' que tem a relação mais expressiva da tabela com 'hours-per-week' e também com 'capital-gain' (mesmo sendo, ainda assim, um valor não muito expressivo)"
      ]
    },
    {
      "cell_type": "markdown",
      "metadata": {
        "id": "yZnYgsle7mJu",
        "colab_type": "text"
      },
      "source": [
        "**Parte 2) Análise de Dados Categóricos - Adult income dataset**\n"
      ]
    },
    {
      "cell_type": "markdown",
      "metadata": {
        "id": "Q1-nrnBi7vVU",
        "colab_type": "text"
      },
      "source": [
        "**Marital-status**"
      ]
    },
    {
      "cell_type": "code",
      "metadata": {
        "id": "dJQSh5TAQKKy",
        "colab_type": "code",
        "outputId": "f2a368de-0703-4cfc-9683-72bc708c51b9",
        "colab": {
          "base_uri": "https://localhost:8080/",
          "height": 190
        }
      },
      "source": [
        "colms = ['marital-status']\n",
        "lbl = LabelEncoder()\n",
        "adult['marital-status'] = lbl.fit_transform(adult[colms])\n",
        "mappings = {index: label for index, label in enumerate(lbl.classes_)}\n",
        "mappings"
      ],
      "execution_count": 0,
      "outputs": [
        {
          "output_type": "stream",
          "text": [
            "/usr/local/lib/python3.6/dist-packages/sklearn/preprocessing/_label.py:251: DataConversionWarning: A column-vector y was passed when a 1d array was expected. Please change the shape of y to (n_samples, ), for example using ravel().\n",
            "  y = column_or_1d(y, warn=True)\n"
          ],
          "name": "stderr"
        },
        {
          "output_type": "execute_result",
          "data": {
            "text/plain": [
              "{0: 'Divorced',\n",
              " 1: 'Married-AF-spouse',\n",
              " 2: 'Married-civ-spouse',\n",
              " 3: 'Married-spouse-absent',\n",
              " 4: 'Never-married',\n",
              " 5: 'Separated',\n",
              " 6: 'Widowed'}"
            ]
          },
          "metadata": {
            "tags": []
          },
          "execution_count": 82
        }
      ]
    },
    {
      "cell_type": "code",
      "metadata": {
        "id": "tBwESfkANv_6",
        "colab_type": "code",
        "outputId": "b104a504-43bb-499f-aa35-63f5bc7f89b3",
        "colab": {
          "base_uri": "https://localhost:8080/",
          "height": 296
        }
      },
      "source": [
        "sns.countplot(adult['marital-status'])"
      ],
      "execution_count": 0,
      "outputs": [
        {
          "output_type": "execute_result",
          "data": {
            "text/plain": [
              "<matplotlib.axes._subplots.AxesSubplot at 0x7f7e29667e80>"
            ]
          },
          "metadata": {
            "tags": []
          },
          "execution_count": 83
        },
        {
          "output_type": "display_data",
          "data": {
            "image/png": "[encoded data removed]",
            "text/plain": [
              "<Figure size 432x288 with 1 Axes>"
            ]
          },
          "metadata": {
            "tags": []
          }
        }
      ]
    },
    {
      "cell_type": "markdown",
      "metadata": {
        "id": "jr44gGV9nWyI",
        "colab_type": "text"
      },
      "source": [
        "Como eu não sei o que significa o AF e Civ, acho prudente considerar essas duas categorias como uma única categoria \"casado\" (até mesmo por que o AF quase não interfere).\n",
        "\n",
        "Dito isso podemos ver que realmente a maioria das pessoas que trabalham nesse caso são as 'casadas' seguidas pelas que 'nunca-casaram'."
      ]
    },
    {
      "cell_type": "markdown",
      "metadata": {
        "id": "fTvaRgbBJJc3",
        "colab_type": "text"
      },
      "source": [
        "**Education**"
      ]
    },
    {
      "cell_type": "code",
      "metadata": {
        "id": "snNzfaZfNwd6",
        "colab_type": "code",
        "outputId": "a600004b-4bfa-4a02-819f-66bc2729774d",
        "colab": {
          "base_uri": "https://localhost:8080/",
          "height": 343
        }
      },
      "source": [
        "cole = ['education']\n",
        "lbl = LabelEncoder()\n",
        "adult['education'] = lbl.fit_transform(adult[cole])\n",
        "mappings = {index: label for index, label in enumerate(lbl.classes_)}\n",
        "mappings"
      ],
      "execution_count": 0,
      "outputs": [
        {
          "output_type": "stream",
          "text": [
            "/usr/local/lib/python3.6/dist-packages/sklearn/preprocessing/_label.py:251: DataConversionWarning: A column-vector y was passed when a 1d array was expected. Please change the shape of y to (n_samples, ), for example using ravel().\n",
            "  y = column_or_1d(y, warn=True)\n"
          ],
          "name": "stderr"
        },
        {
          "output_type": "execute_result",
          "data": {
            "text/plain": [
              "{0: '10th',\n",
              " 1: '11th',\n",
              " 2: '12th',\n",
              " 3: '1st-4th',\n",
              " 4: '5th-6th',\n",
              " 5: '7th-8th',\n",
              " 6: '9th',\n",
              " 7: 'Assoc-acdm',\n",
              " 8: 'Assoc-voc',\n",
              " 9: 'Bachelors',\n",
              " 10: 'Doctorate',\n",
              " 11: 'HS-grad',\n",
              " 12: 'Masters',\n",
              " 13: 'Preschool',\n",
              " 14: 'Prof-school',\n",
              " 15: 'Some-college'}"
            ]
          },
          "metadata": {
            "tags": []
          },
          "execution_count": 84
        }
      ]
    },
    {
      "cell_type": "code",
      "metadata": {
        "id": "T5_d8iPwBmhg",
        "colab_type": "code",
        "outputId": "1db6159f-8552-45ee-e3e0-19312ce209f7",
        "colab": {
          "base_uri": "https://localhost:8080/",
          "height": 296
        }
      },
      "source": [
        "sns.countplot(adult['education'])"
      ],
      "execution_count": 0,
      "outputs": [
        {
          "output_type": "execute_result",
          "data": {
            "text/plain": [
              "<matplotlib.axes._subplots.AxesSubplot at 0x7f7e2d69a470>"
            ]
          },
          "metadata": {
            "tags": []
          },
          "execution_count": 85
        },
        {
          "output_type": "display_data",
          "data": {
            "image/png": "[encoded data removed]",
            "text/plain": [
              "<Figure size 432x288 with 1 Axes>"
            ]
          },
          "metadata": {
            "tags": []
          }
        }
      ]
    },
    {
      "cell_type": "markdown",
      "metadata": {
        "id": "PJp_GtjgInNl",
        "colab_type": "text"
      },
      "source": [
        "Diferentemente dos dados de educational-num que eu fiz uma estimativa do nível educacional, aqui temos um modelo um pouco mais exato que permite ver em detalhes o nível de escolaridade.\n",
        "\n",
        "Sendo que a maior parte das pessoas tem nível de graduação até o colegial (ensino médio), seguidos por aqueles que fizeram alguma faculdade ('Some-college') e por fim aqueles que concluiram um curso de Ensino Superior ('Bachelors').\n",
        "\n",
        "Portanto, a análise que fiz o Educational-num não me parece muito correta.\n",
        "\n"
      ]
    },
    {
      "cell_type": "markdown",
      "metadata": {
        "id": "qu3py-3zJJod",
        "colab_type": "text"
      },
      "source": [
        "**Workclass**"
      ]
    },
    {
      "cell_type": "code",
      "metadata": {
        "id": "-Py-9gESNw7a",
        "colab_type": "code",
        "outputId": "fe825ef6-f60a-4d6d-eb0e-7526d3086adf",
        "colab": {
          "base_uri": "https://localhost:8080/",
          "height": 224
        }
      },
      "source": [
        "colw = ['workclass']\n",
        "lbl = LabelEncoder()\n",
        "adult['workclass'] = lbl.fit_transform(adult[colw])\n",
        "mappings = {index: label for index, label in enumerate(lbl.classes_)}\n",
        "mappings\n"
      ],
      "execution_count": 0,
      "outputs": [
        {
          "output_type": "stream",
          "text": [
            "/usr/local/lib/python3.6/dist-packages/sklearn/preprocessing/_label.py:251: DataConversionWarning: A column-vector y was passed when a 1d array was expected. Please change the shape of y to (n_samples, ), for example using ravel().\n",
            "  y = column_or_1d(y, warn=True)\n"
          ],
          "name": "stderr"
        },
        {
          "output_type": "execute_result",
          "data": {
            "text/plain": [
              "{0: '?',\n",
              " 1: 'Federal-gov',\n",
              " 2: 'Local-gov',\n",
              " 3: 'Never-worked',\n",
              " 4: 'Private',\n",
              " 5: 'Self-emp-inc',\n",
              " 6: 'Self-emp-not-inc',\n",
              " 7: 'State-gov',\n",
              " 8: 'Without-pay'}"
            ]
          },
          "metadata": {
            "tags": []
          },
          "execution_count": 86
        }
      ]
    },
    {
      "cell_type": "code",
      "metadata": {
        "id": "agB6F9p5BuW1",
        "colab_type": "code",
        "outputId": "c400907b-eea6-45cc-a2ca-f1ee2a986547",
        "colab": {
          "base_uri": "https://localhost:8080/",
          "height": 297
        }
      },
      "source": [
        "sns.countplot(adult['workclass'])"
      ],
      "execution_count": 0,
      "outputs": [
        {
          "output_type": "execute_result",
          "data": {
            "text/plain": [
              "<matplotlib.axes._subplots.AxesSubplot at 0x7f7e2d6a5ac8>"
            ]
          },
          "metadata": {
            "tags": []
          },
          "execution_count": 87
        },
        {
          "output_type": "display_data",
          "data": {
            "image/png": "[encoded data removed]",
            "text/plain": [
              "<Figure size 432x288 with 1 Axes>"
            ]
          },
          "metadata": {
            "tags": []
          }
        }
      ]
    },
    {
      "cell_type": "markdown",
      "metadata": {
        "id": "r_dtBY6ZKgH0",
        "colab_type": "text"
      },
      "source": [
        "Este gráfico mostra algo até que esperado já, que a maioria das pessoas vai para área privada para buscar trabalho.\n",
        "\n",
        "E que corporações privadas praticamente são uma hegemonia na escolha de onde trabalhar."
      ]
    },
    {
      "cell_type": "markdown",
      "metadata": {
        "id": "LCQAuyWhNsYl",
        "colab_type": "text"
      },
      "source": [
        "**Race**"
      ]
    },
    {
      "cell_type": "code",
      "metadata": {
        "id": "VUTTWNSONxkr",
        "colab_type": "code",
        "outputId": "56acb129-1c39-4e17-f147-f8c92cda21a7",
        "colab": {
          "base_uri": "https://localhost:8080/",
          "height": 156
        }
      },
      "source": [
        "colr = ['race']\n",
        "lbl = LabelEncoder()\n",
        "adult['race'] = lbl.fit_transform(adult[colr])\n",
        "mappings = {index: label for index, label in enumerate(lbl.classes_)}\n",
        "mappings"
      ],
      "execution_count": 0,
      "outputs": [
        {
          "output_type": "stream",
          "text": [
            "/usr/local/lib/python3.6/dist-packages/sklearn/preprocessing/_label.py:251: DataConversionWarning: A column-vector y was passed when a 1d array was expected. Please change the shape of y to (n_samples, ), for example using ravel().\n",
            "  y = column_or_1d(y, warn=True)\n"
          ],
          "name": "stderr"
        },
        {
          "output_type": "execute_result",
          "data": {
            "text/plain": [
              "{0: 'Amer-Indian-Eskimo',\n",
              " 1: 'Asian-Pac-Islander',\n",
              " 2: 'Black',\n",
              " 3: 'Other',\n",
              " 4: 'White'}"
            ]
          },
          "metadata": {
            "tags": []
          },
          "execution_count": 88
        }
      ]
    },
    {
      "cell_type": "code",
      "metadata": {
        "id": "the6If84COYQ",
        "colab_type": "code",
        "outputId": "f037276c-4bca-45ed-a24c-eca531d4d07e",
        "colab": {
          "base_uri": "https://localhost:8080/",
          "height": 296
        }
      },
      "source": [
        "sns.countplot(adult['race'])"
      ],
      "execution_count": 0,
      "outputs": [
        {
          "output_type": "execute_result",
          "data": {
            "text/plain": [
              "<matplotlib.axes._subplots.AxesSubplot at 0x7f9c222cd080>"
            ]
          },
          "metadata": {
            "tags": []
          },
          "execution_count": 160
        },
        {
          "output_type": "display_data",
          "data": {
            "image/png": "[encoded data removed]",
            "text/plain": [
              "<Figure size 432x288 with 1 Axes>"
            ]
          },
          "metadata": {
            "tags": []
          }
        }
      ]
    },
    {
      "cell_type": "markdown",
      "metadata": {
        "id": "WC8BjQNxpVUd",
        "colab_type": "text"
      },
      "source": [
        "Vemos que a maioria das pessoas desse dataset correspondem a classificação de brancas quase em sua totalidade."
      ]
    },
    {
      "cell_type": "markdown",
      "metadata": {
        "id": "3ChzTj1M8jeW",
        "colab_type": "text"
      },
      "source": [
        "**Income baseado no race e marital-status**"
      ]
    },
    {
      "cell_type": "code",
      "metadata": {
        "id": "SJ92AoiR9LMn",
        "colab_type": "code",
        "outputId": "da036f8f-35b4-45d1-c3e3-1ca2a7b4cc89",
        "colab": {
          "base_uri": "https://localhost:8080/",
          "height": 88
        }
      },
      "source": [
        "coli = ['income']\n",
        "lbl = LabelEncoder()\n",
        "adult['income'] = lbl.fit_transform(adult[coli])\n",
        "mappings = {index: label for index, label in enumerate(lbl.classes_)}\n",
        "mappings"
      ],
      "execution_count": 0,
      "outputs": [
        {
          "output_type": "stream",
          "text": [
            "/usr/local/lib/python3.6/dist-packages/sklearn/preprocessing/_label.py:251: DataConversionWarning: A column-vector y was passed when a 1d array was expected. Please change the shape of y to (n_samples, ), for example using ravel().\n",
            "  y = column_or_1d(y, warn=True)\n"
          ],
          "name": "stderr"
        },
        {
          "output_type": "execute_result",
          "data": {
            "text/plain": [
              "{0: '<=50K', 1: '>50K'}"
            ]
          },
          "metadata": {
            "tags": []
          },
          "execution_count": 89
        }
      ]
    },
    {
      "cell_type": "code",
      "metadata": {
        "id": "_x-jlCEk82r5",
        "colab_type": "code",
        "colab": {}
      },
      "source": [
        "lbl = LabelEncoder()\n",
        "adult['marital-status'] = lbl.fit_transform(adult['marital-status'])\n",
        "adult['race'] = lbl.fit_transform(adult['race'])\n",
        "adult['income'] = lbl.fit_transform(adult['income'])\n",
        "\n",
        "income = adult['income']\n",
        "marital_status = adult['marital-status']\n",
        "race = adult['race']"
      ],
      "execution_count": 0,
      "outputs": []
    },
    {
      "cell_type": "code",
      "metadata": {
        "id": "4X-vNBak90Vm",
        "colab_type": "code",
        "colab": {}
      },
      "source": [
        "aiem = aieM = apcm = apcM = bm = bM = om = oM = wm = wM = 0 \n",
        "# o M é para maior que 50K\n",
        "# o m é para menor que 50K\n",
        "\n",
        "for i in range(len(income)):\n",
        "  if income[i] == 0 and race[i] == 0:\n",
        "    aiem += 1\n",
        "  elif income[i] == 1 and race[i] == 0:\n",
        "    aieM += 1\n",
        "  elif income[i] == 0 and race[i] == 1:\n",
        "    apcm += 1\n",
        "  elif income[i] == 1 and race[i] == 1:\n",
        "    apcM += 1\n",
        "  elif income[i] == 0 and race[i] == 2:\n",
        "    bm += 1\n",
        "  elif income[i] == 1 and race[i] == 2:\n",
        "    bM += 1\n",
        "  elif income[i] == 0 and race[i] == 3:\n",
        "    om += 1\n",
        "  elif income[i] == 1 and race[i] == 3:\n",
        "    oM += 1\n",
        "  elif income[i] == 0 and race[i] == 4:\n",
        "    wm += 1\n",
        "  elif income[i] == 1 and race[i] == 4:\n",
        "    wM +=1"
      ],
      "execution_count": 0,
      "outputs": []
    },
    {
      "cell_type": "markdown",
      "metadata": {
        "id": "gudN9vJrCB-E",
        "colab_type": "text"
      },
      "source": [
        "beleza, eu sei que isso ta longe de parecer uma análise de dados eficiente, mas eu não tava fazendo a menor ideia de como trabalhar com as categóricas, então digamos que dei meu jeito aqui."
      ]
    },
    {
      "cell_type": "code",
      "metadata": {
        "id": "AlKU5r8-ARsP",
        "colab_type": "code",
        "outputId": "f90426da-d805-43c3-d6f9-086b9fb4e5f6",
        "colab": {
          "base_uri": "https://localhost:8080/",
          "height": 323
        }
      },
      "source": [
        "'''{0: 'Amer-Indian-Eskimo',  #colocar o dicionário aqui pra não \n",
        "    1: 'Asian-Pac-Islander',  #precisar subir muito para procurar\n",
        "    2: 'Black',\n",
        "    3: 'Other',\n",
        "    4: 'White'} '''\n",
        "\n",
        "sumrM = aieM + apcM + bM + oM + wM      \n",
        "sumrm = aiem + apcm + bm + om + wm\n",
        "totalr = sumM + summ\n",
        "print(\"(Amer-Indian-Eskimo >50)/total:    \", aieM/total)\n",
        "print(\"(Amer-Indian-Eskimo <=50)/total:   \",aiem/total)\n",
        "print(\"(Asian-Pac-Islander >50)/total:    \",apcM/total)\n",
        "print(\"(Asian-Pac-Islander <=50)/total:   \",apcm/total)\n",
        "print(\"(Black >50)/total:                 \",bM/total)\n",
        "print(\"(Black <=50)/total:                \",bm/total)\n",
        "print(\"(Other >50)/total:                 \",oM/total)\n",
        "print(\"(Other <=50)/total:                \",om/total)\n",
        "print(\"(White >50)/total:                 \",wM/total)\n",
        "print(\"(White <=50)/total:                \",wm/total)\n",
        "print()\n",
        "print(75*'-')\n",
        "print()\n",
        "print(\"Porcentagem de Amer-Indian-Eskimo >50:     \", aieM/(aieM+aiem))\n",
        "print(\"Porcentagem de Asian-Pac-Islander >50:     \",apcM/(apcM+apcm))\n",
        "print(\"Porcentagem de Black >50:                  \",bM/(bM+bm))\n",
        "print(\"Porcentagem de Other >50:                  \",oM/(oM+om))\n",
        "print(\"Porcentagem de White >50:                  \",wM/(wM+wm))"
      ],
      "execution_count": 0,
      "outputs": [
        {
          "output_type": "stream",
          "text": [
            "(Amer-Indian-Eskimo >50)/total:     0.0011260800131034764\n",
            "(Amer-Indian-Eskimo <=50)/total:    0.008496785553417142\n",
            "(Asian-Pac-Islander >50)/total:     0.00837394046107858\n",
            "(Asian-Pac-Islander <=50)/total:    0.0227263420826338\n",
            "(Black >50)/total:                  0.011588387043937595\n",
            "(Black <=50)/total:                 0.08433315589042217\n",
            "(Other >50)/total:                  0.0010237091028213422\n",
            "(Other <=50)/total:                 0.007288808812087957\n",
            "(White >50)/total:                  0.21716964907251957\n",
            "(White <=50)/total:                 0.6378731419679784\n",
            "\n",
            "---------------------------------------------------------------------------\n",
            "\n",
            "Porcentagem de Amer-Indian-Eskimo >50:      0.11702127659574468\n",
            "Porcentagem de Asian-Pac-Islander >50:      0.26925608953258723\n",
            "Porcentagem de Black >50:                   0.1208110992529349\n",
            "Porcentagem de Other >50:                   0.12315270935960591\n",
            "Porcentagem de White >50:                   0.2539868780230832\n"
          ],
          "name": "stdout"
        }
      ]
    },
    {
      "cell_type": "markdown",
      "metadata": {
        "id": "6ao2E34DChm8",
        "colab_type": "text"
      },
      "source": [
        "Certo e o que podemos tirar daqui ?\n",
        "\n",
        "Bom, o primeiro bloco de dados não é muito significativo por que ele mostra como o nosso target (income) está distribuído entre as etnias e, como temos muito mais brancos nos dados era esperado que essa distribuição também pendesse mais para os brancos.\n",
        "\n",
        "Portanto era melhor olhar o segundo bloco, que mostra qual a porcentagem de cada etnia recebe mais de 50 mil e daí conseguimos ver a discrepância.\n",
        "\n",
        "Aproximadamente 1/4 dos White e Asian-Pac-Islander conseguem obter mais de 50 mil, sendo que apenas cerca de 1/8 das outras etnias consegue o mesmo feito."
      ]
    },
    {
      "cell_type": "code",
      "metadata": {
        "id": "-zS2oMk4CkH9",
        "colab_type": "code",
        "colab": {}
      },
      "source": [
        "'''{0: 'Divorced',                #Para essa análise vou utilizar 1 e 2 como a mesma classificação\n",
        "    1: 'Married-AF-spouse',\n",
        "    2: 'Married-civ-spouse',\n",
        "    3: 'Married-spouse-absent',\n",
        "    4: 'Never-married',\n",
        "    5: 'Separated',\n",
        "    6: 'Widowed'}'''\n",
        "\n",
        "dM = dm = msM = msm = msaM = msam = nmM = nmm = sm = sM = wwM = wwm = 0\n",
        "\n",
        "for i in range(len(income)):\n",
        "  if income[i] == 0 and marital_status[i] == 0:\n",
        "    dm += 1\n",
        "  elif income[i] == 1 and marital_status[i] == 0:\n",
        "    dM += 1\n",
        "  elif income[i] == 0 and (marital_status[i] == 1 or marital_status[i] == 2):\n",
        "    msm += 1\n",
        "  elif income[i] == 1 and (marital_status[i] == 1 or marital_status[i] == 2):\n",
        "    msM += 1\n",
        "  elif income[i] == 0 and marital_status[i] == 3:\n",
        "    msam += 1\n",
        "  elif income[i] == 1 and marital_status[i] == 3:\n",
        "    msaM += 1\n",
        "  elif income[i] == 0 and marital_status[i] == 4:\n",
        "    nmm += 1\n",
        "  elif income[i] == 1 and marital_status[i] == 4:\n",
        "    nmM +=1\n",
        "  elif income[i] == 0 and marital_status[i] == 5:\n",
        "    sm += 1\n",
        "  elif income[i] == 1 and marital_status[i] == 5:\n",
        "    sM +=1\n",
        "  elif income[i] == 0 and marital_status[i] == 6:\n",
        "    wwm += 1\n",
        "  elif income[i] == 1 and marital_status[i] == 6:\n",
        "    wwM +=1"
      ],
      "execution_count": 0,
      "outputs": []
    },
    {
      "cell_type": "code",
      "metadata": {
        "id": "RFMdNnyYY_vA",
        "colab_type": "code",
        "outputId": "d7fea06e-5b34-4482-dd76-8e4a39c15174",
        "colab": {
          "base_uri": "https://localhost:8080/",
          "height": 272
        }
      },
      "source": [
        "summsm = dm + msm + msam + nmm + sm + wwm\n",
        "summsM = dM + msM + msaM + nmM + sM + wwM\n",
        "totalms = summsm + summsm\n",
        "\n",
        "print(\"Divorciados/Total:         \", (dm+dM)/(totalms))\n",
        "print(\"Casados/Total:             \", (msm+msM)/(totalms))\n",
        "print(\"Conjuge-ausente/Total:     \", (msam+msaM)/(totalms))\n",
        "print(\"Nunca-casou/Total:         \", (nmm+nmM)/(totalms))\n",
        "print(\"Separados/Total:           \", (sm+sM)/(totalms))\n",
        "print(\"Viúvos/Total:              \", (wwm+wwM)/(totalms))\n",
        "print()\n",
        "print(75*'-')\n",
        "print()\n",
        "print(\"Porcentagem de Divorciados >50:        \", dM/(dm+dM))\n",
        "print(\"Porcentagem de Casados >50:            \", msM/(msm+msM))\n",
        "print(\"Porcentagem de Conjuge-ausente >50:    \", msaM/(msam+msaM))\n",
        "print(\"Porcentagem de Nunca-casou >50:        \", nmM/(nmm+nmM))\n",
        "print(\"Porcentagem de Separados >50:          \", sM/(sm+sM))\n",
        "print(\"Porcentagem de Viúvos >50:             \", wwM/(wwm+wwM))"
      ],
      "execution_count": 0,
      "outputs": [
        {
          "output_type": "stream",
          "text": [
            "Divorciados/Total:          0.0892612030682277\n",
            "Casados/Total:              0.30165522809850626\n",
            "Conjuge-ausente/Total:      0.008451083299690486\n",
            "Nunca-casou/Total:          0.21688870946036873\n",
            "Separados/Total:            0.020589422688736373\n",
            "Viúvos/Total:               0.020427937020589423\n",
            "\n",
            "---------------------------------------------------------------------------\n",
            "\n",
            "Porcentagem de Divorciados >50:         0.1011608623548922\n",
            "Porcentagem de Casados >50:             0.4460206995003569\n",
            "Porcentagem de Conjuge-ausente >50:     0.09235668789808917\n",
            "Porcentagem de Nunca-casou >50:         0.045479928026307626\n",
            "Porcentagem de Separados >50:           0.06470588235294118\n",
            "Porcentagem de Viúvos >50:              0.08432147562582346\n"
          ],
          "name": "stdout"
        }
      ]
    },
    {
      "cell_type": "markdown",
      "metadata": {
        "id": "okpuFQn8cj70",
        "colab_type": "text"
      },
      "source": [
        "Achei surpreendente o resultado, quase 45% dos casados recebem mais de 50 mil o que não me parece algo tão intuitivo de se pensar sem ter uma análise dos dados.\n",
        "\n",
        "Após isso apenas os Divorciados se destacam com cerca de 10% recebendo mais de 50 mil, o que de qualquer forma nos mostra a discrepância desses resultados."
      ]
    }
  ]
}